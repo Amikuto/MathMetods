{
 "cells": [
  {
   "cell_type": "code",
   "execution_count": 1,
   "id": "aa546e2c",
   "metadata": {
    "pycharm": {
     "name": "#%%\n"
    }
   },
   "outputs": [],
   "source": [
    "import numpy as np\n",
    "from scipy.optimize import minimize, LinearConstraint, Bounds\n",
    "import sympy as sym\n",
    "import matplotlib.pyplot as plt"
   ]
  },
  {
   "cell_type": "code",
   "execution_count": 6,
   "id": "85d97cd1",
   "metadata": {
    "pycharm": {
     "name": "#%%\n"
    }
   },
   "outputs": [],
   "source": [
    "a = int(input('a = '))\n",
    "b = int(input('b = '))\n",
    "c = int(input('c = '))"
   ]
  },
  {
   "cell_type": "code",
   "execution_count": 7,
   "id": "afd4dbdd",
   "metadata": {
    "pycharm": {
     "name": "#%%\n"
    }
   },
   "outputs": [
    {
     "name": "stdout",
     "output_type": "stream",
     "text": [
      "Optimization terminated successfully    (Exit mode 0)\n",
      "            Current function value: -29.99999999999684\n",
      "            Iterations: 3\n",
      "            Function evaluations: 3\n",
      "            Gradient evaluations: 3\n",
      "[-4.49640325e-14  5.00000000e+00]\n"
     ]
    }
   ],
   "source": [
    "def gr(data):\n",
    "    der = np.zeros_like(data)\n",
    "    der[0] = -1\n",
    "    der[1] = -a\n",
    "\n",
    "    return der\n",
    "\n",
    "def F(data):\n",
    "    x, y = data\n",
    "    return -(x + a * y)\n",
    "\n",
    "\n",
    "x_min = 0\n",
    "y_min = 0\n",
    "x_max = np.inf\n",
    "y_max = np.inf\n",
    "bounds = Bounds([x_min, y_min], [x_max, y_max])\n",
    "\n",
    "linear_constraints = [LinearConstraint([1, 2], -np.inf, 10),\n",
    "                      LinearConstraint([3, 2], -np.inf, 18),\n",
    "                      LinearConstraint([1, -1], -b, np.inf),\n",
    "                      LinearConstraint([c, -1], -np.inf, 8*c + 3)]\n",
    "x0 = np.array([1.0, 1.0])\n",
    "\n",
    "res = minimize(F, x0, jac=gr, constraints=linear_constraints, options={'disp': True})\n",
    "\n",
    "u = res.x[0]\n",
    "v = res.x[1]\n",
    "F_max = -res.fun\n",
    "print(res.x)"
   ]
  },
  {
   "cell_type": "code",
   "execution_count": 10,
   "id": "0a76175c",
   "metadata": {
    "pycharm": {
     "name": "#%%\n"
    }
   },
   "outputs": [
    {
     "name": "stdout",
     "output_type": "stream",
     "text": [
      "Оптим. значения: x =  -4.496403249731884e-14 y =  4.999999999999481 max значение:  29.99999999999684\n"
     ]
    }
   ],
   "source": [
    "print(\"Оптим. значения: x = \", u, \"y = \", v, \"max значение: \", F_max)"
   ]
  },
  {
   "cell_type": "code",
   "execution_count": 11,
   "id": "5066e175",
   "metadata": {
    "pycharm": {
     "name": "#%%\n"
    }
   },
   "outputs": [
    {
     "data": {
      "text/plain": "<Figure size 432x288 with 1 Axes>",
      "image/png": "[encoded data removed]"
     },
     "metadata": {
      "needs_background": "light"
     },
     "output_type": "display_data"
    }
   ],
   "source": [
    "d = np.linspace(-20,20,200)\n",
    "x,y = np.meshgrid(d,d)\n",
    "\n",
    "plt.imshow( ((2*y<=10-x) & (2*y<=18-3*x) & (y<=x+b) & (y>=c*x-8*c-3)).astype(int) , \n",
    "                extent=(x.min(),x.max(),y.min(),y.max()),origin=\"lower\", cmap=\"Greys\", alpha = 0.3);\n",
    "\n",
    "x = np.linspace(-20, 20, 2000)\n",
    "\n",
    "y1 = (10-x)/2.0\n",
    "y2 = (18-3*x)/2.0\n",
    "y3 = x + b\n",
    "y4 = c*x - 8*c - 3\n",
    "\n",
    "y5 = F_max/a - x/a\n",
    "y6 = 4/a - x/a\n",
    "\n",
    "\n",
    "plt.plot(x, y1, label=r'$2y\\leq 10-x$')\n",
    "plt.plot(x, y2, label=r'$2y\\leq 18-3x$')\n",
    "plt.plot(x, y3, label=fr'$y\\leq x + {b}$')\n",
    "plt.plot(x, y4, label=fr'$y\\geq {c}(x-8)-3$')\n",
    "\n",
    "plt.plot(x, y5, label=f'F={F_max.round(3)}')\n",
    "plt.plot(x, y6, label='F=4')\n",
    "\n",
    "plt.xlim(-20,20)\n",
    "plt.ylim(-10,10)\n",
    "\n",
    "plt.plot(u, v, \"ko\")\n",
    "plt.text(u + 1, v + 1, f\"M*({u.round(3)}, {v.round(3)})\")\n",
    "\n",
    "plt.legend(bbox_to_anchor=(1.05, 1), loc=2, borderaxespad=0.)\n",
    "plt.xlabel(r'$x$')\n",
    "plt.ylabel(r'$y$')\n",
    "\n",
    "plt.show()"
   ]
  },
  {
   "cell_type": "code",
   "execution_count": null,
   "id": "35af1a1a",
   "metadata": {
    "pycharm": {
     "name": "#%%\n"
    }
   },
   "outputs": [],
   "source": []
  }
 ],
 "metadata": {
  "kernelspec": {
   "display_name": "Python 3 (ipykernel)",
   "language": "python",
   "name": "python3"
  },
  "language_info": {
   "codemirror_mode": {
    "name": "ipython",
    "version": 3
   },
   "file_extension": ".py",
   "mimetype": "text/x-python",
   "name": "python",
   "nbconvert_exporter": "python",
   "pygments_lexer": "ipython3",
   "version": "3.9.7"
  }
 },
 "nbformat": 4,
 "nbformat_minor": 5
}