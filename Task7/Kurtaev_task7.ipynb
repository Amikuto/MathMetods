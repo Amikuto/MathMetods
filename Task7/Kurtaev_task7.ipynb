{
 "cells": [
  {
   "cell_type": "code",
   "execution_count": 5,
   "id": "55eda7aa",
   "metadata": {
    "pycharm": {
     "name": "#%%\n"
    }
   },
   "outputs": [],
   "source": [
    "import numpy as np\n",
    "import pandas as pd\n",
    "from scipy.optimize import linprog"
   ]
  },
  {
   "cell_type": "code",
   "execution_count": 62,
   "id": "6cfdb12c",
   "metadata": {
    "scrolled": true,
    "pycharm": {
     "name": "#%%\n"
    }
   },
   "outputs": [],
   "source": [
    "fst = list(map(int, input(\"Строка матрицы с пробелами (например '1 2 3'):\").split()))\n",
    "scnd = list(map(int, input(\"Строка матрицы с пробелами (например '1 2 3'):\").split()))\n",
    "thrd = list(map(int, input(\"Строка матрицы с пробелами (например '1 2 3'):\").split()))\n",
    "\n",
    "C = np.array([fst, scnd, thrd])"
   ]
  },
  {
   "cell_type": "code",
   "execution_count": 25,
   "outputs": [
    {
     "data": {
      "text/plain": "array([[16,  7, 13, 10, 22],\n       [ 6, 15, 12,  9,  4],\n       [14, 11,  5, 17,  8]])"
     },
     "execution_count": 25,
     "metadata": {},
     "output_type": "execute_result"
    }
   ],
   "source": [
    "C"
   ],
   "metadata": {
    "collapsed": false,
    "pycharm": {
     "name": "#%%\n"
    }
   }
  },
  {
   "cell_type": "code",
   "execution_count": 64,
   "id": "4b5568ed",
   "metadata": {
    "pycharm": {
     "name": "#%%\n"
    }
   },
   "outputs": [],
   "source": [
    "a1, a2, a3 = map(int, input(\"a1, a2, a3:\").split())\n",
    "b1, b2, b3, b4, b5 = map(int, input(\"b1, b2, b3, b4, b5:\").split())"
   ]
  },
  {
   "cell_type": "code",
   "execution_count": 65,
   "id": "27843ed2",
   "metadata": {
    "pycharm": {
     "name": "#%%\n"
    }
   },
   "outputs": [],
   "source": [
    "A = np.array([a1, a2, a3])\n",
    "B = np.array([b1, b2, b3, b4, b5])\n",
    "N = len(A)\n",
    "M = len(B)"
   ]
  },
  {
   "cell_type": "code",
   "execution_count": 66,
   "id": "e0a9c5e6",
   "metadata": {
    "pycharm": {
     "name": "#%%\n"
    }
   },
   "outputs": [
    {
     "data": {
      "text/plain": "     120  200  210  150  150\n250   14    9   15   11   20\n300    7   12   15    4    9\n300   17    8    5   11   14",
      "text/html": "<div>\n<style scoped>\n    .dataframe tbody tr th:only-of-type {\n        vertical-align: middle;\n    }\n\n    .dataframe tbody tr th {\n        vertical-align: top;\n    }\n\n    .dataframe thead th {\n        text-align: right;\n    }\n</style>\n<table border=\"1\" class=\"dataframe\">\n  <thead>\n    <tr style=\"text-align: right;\">\n      <th></th>\n      <th>120</th>\n      <th>200</th>\n      <th>210</th>\n      <th>150</th>\n      <th>150</th>\n    </tr>\n  </thead>\n  <tbody>\n    <tr>\n      <th>250</th>\n      <td>14</td>\n      <td>9</td>\n      <td>15</td>\n      <td>11</td>\n      <td>20</td>\n    </tr>\n    <tr>\n      <th>300</th>\n      <td>7</td>\n      <td>12</td>\n      <td>15</td>\n      <td>4</td>\n      <td>9</td>\n    </tr>\n    <tr>\n      <th>300</th>\n      <td>17</td>\n      <td>8</td>\n      <td>5</td>\n      <td>11</td>\n      <td>14</td>\n    </tr>\n  </tbody>\n</table>\n</div>"
     },
     "execution_count": 66,
     "metadata": {},
     "output_type": "execute_result"
    }
   ],
   "source": [
    "df = pd.DataFrame(C, columns=B, index=A)\n",
    "df"
   ]
  },
  {
   "cell_type": "code",
   "execution_count": 67,
   "id": "bc022b12",
   "metadata": {
    "pycharm": {
     "name": "#%%\n"
    }
   },
   "outputs": [
    {
     "name": "stdout",
     "output_type": "stream",
     "text": [
      "Опорный план является невырожденным\n",
      "план перевозки груза:\n",
      "[[  0 110   0   0  50]\n",
      " [120   0   0 150  30]\n",
      " [  0  90 210   0   0]]\n",
      "F:\n",
      "5470\n"
     ]
    }
   ],
   "source": [
    "P = np.zeros_like(C)\n",
    "C_ = C.copy()\n",
    "A_ = A.copy()\n",
    "B_ = B.copy()\n",
    "i = 0\n",
    "j = 0\n",
    "while not np.all(C_ == 1_000_000):\n",
    "    i, j = np.unravel_index(C_.argmin(), C_.shape)\n",
    "    P[i][j] = min(A_[i], B_[j])\n",
    "    if A_[i] <= B_[j]:\n",
    "        C_[i].fill(1_000_000)\n",
    "        B_[j] -= A_[i]\n",
    "        A_[i] = 0\n",
    "    else:\n",
    "        C_[:, j].fill(1_000_000)\n",
    "        A_[i] -= B[j]\n",
    "        B_[j] = 0\n",
    "\n",
    "plan = \"\"\n",
    "if np.count_nonzero(P) == N + M - 1:\n",
    "    plan = \"невырожденным\"\n",
    "else:\n",
    "    plan = \"вырожденным\"\n",
    "print(\"Опорный план является\", plan)\n",
    "\n",
    "F = 0\n",
    "for i in range(N):\n",
    "    for j in range(M):\n",
    "        F += C[i][j] * P[i][j]\n",
    "print(\"план перевозки груза:\", P, \"F:\", F, sep=\"\\n\")"
   ]
  },
  {
   "cell_type": "markdown",
   "source": [
    "Оптимальный план перевозки груза"
   ],
   "metadata": {
    "collapsed": false,
    "pycharm": {
     "name": "#%% md\n"
    }
   }
  },
  {
   "cell_type": "code",
   "execution_count": 68,
   "id": "69e4099b",
   "metadata": {
    "pycharm": {
     "name": "#%%\n"
    }
   },
   "outputs": [
    {
     "name": "stdout",
     "output_type": "stream",
     "text": [
      "Primal Feasibility  Dual Feasibility    Duality Gap         Step             Path Parameter      Objective          \n",
      "1.0                 1.0                 1.0                 -                1.0                 171.0               \n",
      "0.1107216986547     0.1107216986547     0.1107216986548     0.8963410867654  0.1107216986547     1300.84320416       \n",
      "0.03652254215735    0.03652254215735    0.03652254215738    0.6942961629146  0.03652254215739    2381.261299701      \n",
      "0.009387029673161   0.00938702967316    0.009387029673168   0.749969156504   0.009387029673169   4488.867000812      \n",
      "0.002108734863103   0.002108734863105   0.002108734863107   0.8042965147856  0.002108734863135   5770.759366915      \n",
      "0.0001299340030438  0.000129934003044   0.0001299340030442  0.9456893416472  0.0001299340030462  6264.090145598      \n",
      "1.469443056102e-08  1.469443055045e-08  1.469443076779e-08  0.9998967549211  1.469443074116e-08  6299.995950404      \n",
      "7.349267205539e-13  7.34927092007e-13   7.348333827733e-13  0.9999499861476  7.347297017275e-13  6299.999999797      \n",
      "Optimization terminated successfully.\n",
      "         Current function value: 6300.000000 \n",
      "         Iterations: 7\n"
     ]
    }
   ],
   "source": [
    "A_ub = np.array([[1 if i in range(j*M, M*(j+1)) else 0 for i in range(N*M)] for j in range(N)])\n",
    "b_ub = A\n",
    "\n",
    "b_eq = B\n",
    "A_eq = np.array([[1 if i % M == j else 0 for i in range(N*M)] for j in range(M)])\n",
    "\n",
    "res = linprog(C.flatten(), A_ub, b_ub, A_eq, b_eq, options={'disp': True})\n",
    "\n",
    "X = res.x.round(3).reshape(N, M)\n",
    "F_min = res.fun.round(3)"
   ]
  },
  {
   "cell_type": "code",
   "execution_count": 70,
   "id": "80e6e85a",
   "metadata": {
    "pycharm": {
     "name": "#%%\n"
    }
   },
   "outputs": [
    {
     "name": "stdout",
     "output_type": "stream",
     "text": [
      "оптимальны план перевозки груза:\n",
      "[[ 16.907 200.      0.     13.093   0.   ]\n",
      " [103.093   0.      0.    136.907  60.   ]\n",
      " [  0.      0.    210.      0.     90.   ]]\n",
      "F_min:\n",
      "6300.0\n"
     ]
    }
   ],
   "source": [
    "print(\"оптимальны план перевозки груза:\", X, \"F_min:\", F_min, sep=\"\\n\")"
   ]
  }
 ],
 "metadata": {
  "kernelspec": {
   "display_name": "Python 3 (ipykernel)",
   "language": "python",
   "name": "python3"
  },
  "language_info": {
   "codemirror_mode": {
    "name": "ipython",
    "version": 3
   },
   "file_extension": ".py",
   "mimetype": "text/x-python",
   "name": "python",
   "nbconvert_exporter": "python",
   "pygments_lexer": "ipython3",
   "version": "3.9.7"
  }
 },
 "nbformat": 4,
 "nbformat_minor": 5
}