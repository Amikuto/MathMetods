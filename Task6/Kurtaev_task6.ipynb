{
 "cells": [
  {
   "cell_type": "markdown",
   "id": "2cc9865e",
   "metadata": {
    "pycharm": {
     "name": "#%% md\n"
    }
   },
   "source": [
    "Задача об оптимальном использовании ресурсов</b><br>\n",
    "Для производства трех видов изделий (A, B, C) используются ресурсы типа I и II,<br>\n",
    "причем закупки ресурсов ограничены возможностями поставщиков. Нормы расхода ресурсов и их запасы приведены в таблице.<br>\n",
    "1. Постройте математическую модель задачи.<br>\n",
    "2. Определите такой план производства, при котором стоимость произведенного товара из имеющихся ресурсов является наибольшей.<br>\n",
    "3. Постройте задачу, двойственную к данной.<br>\n",
    "4. Найдите решение двойственной задачи. Поясните смысл двойственных переменных.<br>\n",
    "5. Проверьте результаты вычислений на компьютере."
   ]
  },
  {
   "cell_type": "code",
   "execution_count": 7,
   "id": "9331cd31",
   "metadata": {
    "pycharm": {
     "name": "#%%\n"
    }
   },
   "outputs": [],
   "source": [
    "import numpy as np\n",
    "from scipy.optimize import Bounds, linprog\n",
    "import sympy as sym\n",
    "import matplotlib.pyplot as plt"
   ]
  },
  {
   "cell_type": "code",
   "execution_count": 8,
   "id": "7b3aef90",
   "metadata": {
    "pycharm": {
     "name": "#%%\n"
    }
   },
   "outputs": [],
   "source": [
    "a = int(input('a = '))\n",
    "b = int(input('b = '))\n",
    "c = int(input('c = '))"
   ]
  },
  {
   "cell_type": "code",
   "execution_count": 9,
   "id": "605ad0e1",
   "metadata": {
    "pycharm": {
     "name": "#%%\n"
    }
   },
   "outputs": [
    {
     "name": "stdout",
     "output_type": "stream",
     "text": [
      "Optimization terminated successfully.\n",
      "         Current function value: -33360.000000\n",
      "         Iterations: 2\n",
      "[  0. 520. 360.]\n",
      "Оптим. значения: x1= 0.0 x2= 520.0 x3= 360.0 max значение:  33360.0\n"
     ]
    }
   ],
   "source": [
    "bounds = np.array([(0, np.inf), (0, np.inf), (0, np.inf)])\n",
    "\n",
    "A_ub = np.array([[1, 3, a], [6, 5, 2]])\n",
    "b_ub = np.array([3000, 3320])\n",
    "c0 = np.array([6*b + 12, 5*b + 22, c])\n",
    "\n",
    "res = linprog(-c0, A_ub, b_ub, bounds=bounds, method='simplex', options={'disp': True})\n",
    "\n",
    "x1 = res.x[0]\n",
    "x2 = res.x[1]\n",
    "x3 = res.x[2]\n",
    "F_max = -res.fun\n",
    "print(res.x)\n",
    "print(\"Оптим. значения: x1=\", x1, \"x2=\", x2, \"x3=\", x3, \"max значение: \", F_max)"
   ]
  },
  {
   "cell_type": "code",
   "execution_count": 10,
   "id": "71044cc9",
   "metadata": {
    "pycharm": {
     "name": "#%%\n"
    }
   },
   "outputs": [
    {
     "data": {
      "text/plain": "array([3000., 3320.])"
     },
     "execution_count": 10,
     "metadata": {},
     "output_type": "execute_result"
    }
   ],
   "source": [
    "b_opt = np.array([x1 + 3*x2 + a*x3, 6*x1 + 5*x2 + 2*x3]) # Реальный расход ресурсов\n",
    "b_opt"
   ]
  },
  {
   "cell_type": "code",
   "execution_count": 11,
   "id": "1b012a31",
   "metadata": {
    "pycharm": {
     "name": "#%%\n"
    }
   },
   "outputs": [
    {
     "name": "stdout",
     "output_type": "stream",
     "text": [
      "исчерпанность ресурсов:  [0. 0.]\n"
     ]
    }
   ],
   "source": [
    "print(\"исчерпанность ресурсов: \", abs(b_ub-b_opt))"
   ]
  },
  {
   "cell_type": "code",
   "execution_count": 11,
   "id": "d9b77ae3",
   "metadata": {
    "pycharm": {
     "name": "#%%\n"
    }
   },
   "outputs": [],
   "source": []
  }
 ],
 "metadata": {
  "kernelspec": {
   "display_name": "Python 3 (ipykernel)",
   "language": "python",
   "name": "python3"
  },
  "language_info": {
   "codemirror_mode": {
    "name": "ipython",
    "version": 3
   },
   "file_extension": ".py",
   "mimetype": "text/x-python",
   "name": "python",
   "nbconvert_exporter": "python",
   "pygments_lexer": "ipython3",
   "version": "3.9.7"
  }
 },
 "nbformat": 4,
 "nbformat_minor": 5
}