{
 "cells": [
  {
   "cell_type": "code",
   "execution_count": 16,
   "outputs": [],
   "source": [
    "import numpy as np\n",
    "import matplotlib.pyplot as plt"
   ],
   "metadata": {
    "collapsed": false,
    "pycharm": {
     "name": "#%%\n"
    }
   }
  },
  {
   "cell_type": "code",
   "execution_count": 17,
   "metadata": {
    "collapsed": true
   },
   "outputs": [],
   "source": [
    "p1o1 = int(input(\"Потребление 1 отрасли 1: \"))\n",
    "p1o2 = int(input(\"Потребление 1 отрасли 2: \"))\n",
    "p2o1 = int(input(\"Потребление 2 отрасли 1: \"))\n",
    "p2o2 = int(input(\"Потребление 2 отрасли 2: \"))\n",
    "kpy1 = int(input(\"Конечное потребление y1: \"))\n",
    "kpy2 = int(input(\"Конечное потребление y2: \"))\n",
    "opx1 = int(input(\"Объем производства x1: \"))\n",
    "opx2 = int(input(\"Объем производства x2: \"))"
   ]
  },
  {
   "cell_type": "code",
   "execution_count": 18,
   "outputs": [],
   "source": [
    "X = np.matrix([[p1o1, p1o2], [p2o1, p2o2]])\n",
    "y = np.array([kpy1, kpy2])\n",
    "x = np.array([opx1, opx2])\n",
    "y2 = np.array(np.random.randint(50, high=300, size=2))"
   ],
   "metadata": {
    "collapsed": false,
    "pycharm": {
     "name": "#%%\n"
    }
   }
  },
  {
   "cell_type": "code",
   "execution_count": 19,
   "outputs": [
    {
     "name": "stdout",
     "output_type": "stream",
     "text": [
      "Матрица прямых затрат: \n",
      " [[0.07801418 0.17964072]\n",
      " [0.12056738 0.11976048]]\n"
     ]
    }
   ],
   "source": [
    "E = np.eye(len(X))\n",
    "# print(\"Единичная матрица: \\n\", E)\n",
    "\n",
    "A = np.zeros((2, 2))\n",
    "A[0, 0] = X[0, 0] / x[0]\n",
    "A[1, 0] = X[1, 0] / x[0]\n",
    "A[0, 1] = X[0, 1] / x[1]\n",
    "A[1, 1] = X[1, 1] / x[1]\n",
    "print(\"Матрица прямых затрат: \\n\", A)"
   ],
   "metadata": {
    "collapsed": false,
    "pycharm": {
     "name": "#%%\n"
    }
   }
  },
  {
   "cell_type": "code",
   "execution_count": 20,
   "outputs": [
    {
     "name": "stdout",
     "output_type": "stream",
     "text": [
      "матрицы полных затрат: \n",
      " [[1.11435484 0.22741935]\n",
      " [0.15263441 1.1672043 ]]\n"
     ]
    }
   ],
   "source": [
    "EA = E - A\n",
    "# print(\"\", EA)\n",
    "\n",
    "S = np.linalg.inv(EA)\n",
    "print(\"матрицы полных затрат: \\n\", S)"
   ],
   "metadata": {
    "collapsed": false,
    "pycharm": {
     "name": "#%%\n"
    }
   }
  },
  {
   "cell_type": "code",
   "execution_count": 21,
   "outputs": [
    {
     "name": "stdout",
     "output_type": "stream",
     "text": [
      " [[ 1.00000000e+00  1.42246655e-17]\n",
      " [-5.13101386e-18  1.00000000e+00]]\n",
      "Матрица A продуктивна\n"
     ]
    }
   ],
   "source": [
    "E1 = S @ EA\n",
    "print(\"\", E1)\n",
    "\n",
    "if np.all(S > 0):\n",
    "    print(\"Матрица A продуктивна\")"
   ],
   "metadata": {
    "collapsed": false,
    "pycharm": {
     "name": "#%%\n"
    }
   }
  },
  {
   "cell_type": "code",
   "execution_count": 22,
   "outputs": [
    {
     "name": "stdout",
     "output_type": "stream",
     "text": [
      "Собственные значения матрицы:  [-0.04975485  0.24752951]\n"
     ]
    }
   ],
   "source": [
    "np.linalg.eig(A)\n",
    "\n",
    "d = np.linalg.eigvals(A)\n",
    "print(\"Собственные значения матрицы: \", d)"
   ],
   "metadata": {
    "collapsed": false,
    "pycharm": {
     "name": "#%%\n"
    }
   }
  },
  {
   "cell_type": "code",
   "execution_count": 23,
   "outputs": [
    {
     "name": "stdout",
     "output_type": "stream",
     "text": [
      "Определение числа Фробениуса:  0.2475295138840824\n"
     ]
    }
   ],
   "source": [
    "lambda_A = np.max(d)\n",
    "print(\"Определение числа Фробениуса: \", lambda_A)"
   ],
   "metadata": {
    "collapsed": false,
    "pycharm": {
     "name": "#%%\n"
    }
   }
  },
  {
   "cell_type": "code",
   "execution_count": 24,
   "outputs": [
    {
     "name": "stdout",
     "output_type": "stream",
     "text": [
      "Собств. векторы A, стоящие в столбцах матр. P\n",
      " [[-0.81490278 -0.72730684]\n",
      " [ 0.57959767 -0.68631243]]\n"
     ]
    }
   ],
   "source": [
    "P = np.linalg.eig(A)[1]\n",
    "print(\"Собств. векторы A, стоящие в столбцах матр. P\\n\", P)"
   ],
   "metadata": {
    "collapsed": false,
    "pycharm": {
     "name": "#%%\n"
    }
   }
  },
  {
   "cell_type": "code",
   "execution_count": 25,
   "outputs": [
    {
     "name": "stdout",
     "output_type": "stream",
     "text": [
      "Вектор объемов производства по отраслям (x1=x) [141. 167.]\n"
     ]
    }
   ],
   "source": [
    "x1 = S @ y\n",
    "print(\"Вектор объемов производства по отраслям (x1=x)\", x1)"
   ],
   "metadata": {
    "collapsed": false,
    "pycharm": {
     "name": "#%%\n"
    }
   }
  },
  {
   "cell_type": "code",
   "execution_count": 26,
   "outputs": [
    {
     "name": "stdout",
     "output_type": "stream",
     "text": [
      "Вектор новых объемов производства по отраслям,→ (валового выпуска) [378.56225806 361.99494624]\n"
     ]
    }
   ],
   "source": [
    "x2 = S @ y2\n",
    "print(\"Вектор новых объемов производства по отраслям,→ (валового выпуска)\", x2)"
   ],
   "metadata": {
    "collapsed": false,
    "pycharm": {
     "name": "#%%\n"
    }
   }
  },
  {
   "cell_type": "code",
   "execution_count": 27,
   "outputs": [
    {
     "name": "stdout",
     "output_type": "stream",
     "text": [
      "вектор чистой продукции отраслей xc:  [303.38677419 253.61322581]\n"
     ]
    }
   ],
   "source": [
    "xc = np.array([0., 0.])\n",
    "x11 = A[0, 0] * x2[0]\n",
    "x21 = A[1, 0] * x2[0]\n",
    "xc[0] = x2[0] - (x11 + x21)\n",
    "x12 = A[0, 1] * x2[1]\n",
    "x22 = A[1, 1] * x2[1]\n",
    "xc[1] = x2[1] - (x12 + x22)\n",
    "print(\"вектор чистой продукции отраслей xc: \", xc)"
   ],
   "metadata": {
    "collapsed": false,
    "pycharm": {
     "name": "#%%\n"
    }
   }
  },
  {
   "cell_type": "code",
   "execution_count": 28,
   "outputs": [
    {
     "data": {
      "text/plain": "<Figure size 432x288 with 1 Axes>",
      "image/png": "[encoded data removed]"
     },
     "metadata": {
      "needs_background": "light"
     },
     "output_type": "display_data"
    }
   ],
   "source": [
    "names = [\"Отрасль 1\", \"Отрасль 2\"]\n",
    "plt.bar(names, xc, color=[\"orange\", \"blue\"])\n",
    "plt.title(\"чистая продукция отраслей xc\")\n",
    "plt.show()"
   ],
   "metadata": {
    "collapsed": false,
    "pycharm": {
     "name": "#%%\n"
    }
   }
  },
  {
   "cell_type": "code",
   "execution_count": 29,
   "outputs": [
    {
     "data": {
      "text/plain": "<Figure size 432x288 with 1 Axes>",
      "image/png": "[encoded data removed]"
     },
     "metadata": {
      "needs_background": "light"
     },
     "output_type": "display_data"
    }
   ],
   "source": [
    "plt.bar(names, x2, color=[\"orange\", \"blue\"])\n",
    "plt.title(\"Вектор новых объемов производства по отраслям,→ (валового выпуска)\")\n",
    "plt.show()"
   ],
   "metadata": {
    "collapsed": false,
    "pycharm": {
     "name": "#%%\n"
    }
   }
  },
  {
   "cell_type": "code",
   "execution_count": 30,
   "outputs": [
    {
     "data": {
      "text/plain": "<Figure size 432x288 with 1 Axes>",
      "image/png": "[encoded data removed]"
     },
     "metadata": {
      "needs_background": "light"
     },
     "output_type": "display_data"
    }
   ],
   "source": [
    "plt.bar(names, x1, color=[\"orange\", \"blue\"])\n",
    "plt.title(\"Вектор объемов производства по отраслям (x1=x)\")\n",
    "plt.show()"
   ],
   "metadata": {
    "collapsed": false,
    "pycharm": {
     "name": "#%%\n"
    }
   }
  }
 ],
 "metadata": {
  "kernelspec": {
   "display_name": "Python 3",
   "language": "python",
   "name": "python3"
  },
  "language_info": {
   "codemirror_mode": {
    "name": "ipython",
    "version": 2
   },
   "file_extension": ".py",
   "mimetype": "text/x-python",
   "name": "python",
   "nbconvert_exporter": "python",
   "pygments_lexer": "ipython2",
   "version": "2.7.6"
  }
 },
 "nbformat": 4,
 "nbformat_minor": 0
}